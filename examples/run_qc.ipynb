{
 "cells": [
  {
   "cell_type": "code",
   "execution_count": 1,
   "metadata": {},
   "outputs": [],
   "source": [
    "root = '/storage/research/cinn-workspace/cinnqc'\n",
    "import os\n",
    "os.chdir(os.path.join(root,'cinnqc/'))\n",
    "import cinnqc"
   ]
  },
  {
   "cell_type": "code",
   "execution_count": 2,
   "metadata": {},
   "outputs": [],
   "source": [
    "task_bids = os.path.join(root,'cinnqc/examples/fmri-open-qc-task/')\n",
    "rest_bids_100 = os.path.join(root,'cinnqc/examples/fmri-open-qc-rest-100/')\n",
    "rest_bids_200 = os.path.join(root,'cinnqc/examples/fmri-open-qc-rest-200/')\n",
    "rest_bids_300 = os.path.join(root,'cinnqc/examples/fmri-open-qc-rest-300/')\n",
    "rest_bids_400 = os.path.join(root,'cinnqc/examples/fmri-open-qc-rest-400/')\n",
    "rest_bids_500 = os.path.join(root,'cinnqc/examples/fmri-open-qc-rest-500/')\n",
    "rest_bids_600 = os.path.join(root,'cinnqc/examples/fmri-open-qc-rest-600/')\n",
    "rest_bids_700 = os.path.join(root,'cinnqc/examples/fmri-open-qc-rest-700/')\n",
    "task_bids_info = os.path.join(root,'cinnqc/examples/bidsinfo_task.csv')\n",
    "rest_bids_info_100 = os.path.join(root,'cinnqc/examples/bidsinfo_rest_100.csv')\n",
    "rest_bids_info_200 = os.path.join(root,'cinnqc/examples/bidsinfo_rest_200.csv')\n",
    "rest_bids_info_300 = os.path.join(root,'cinnqc/examples/bidsinfo_rest_300.csv')\n",
    "rest_bids_info_400 = os.path.join(root,'cinnqc/examples/bidsinfo_rest_400.csv')\n",
    "rest_bids_info_500 = os.path.join(root,'cinnqc/examples/bidsinfo_rest_500.csv')\n",
    "rest_bids_info_600 = os.path.join(root,'cinnqc/examples/bidsinfo_rest_600.csv')\n",
    "rest_bids_info_700 = os.path.join(root,'cinnqc/examples/bidsinfo_rest_700.csv')"
   ]
  },
  {
   "cell_type": "code",
   "execution_count": 3,
   "metadata": {},
   "outputs": [],
   "source": [
    "bids_dirs = [task_bids,rest_bids_100,rest_bids_200,rest_bids_300,\n",
    "             rest_bids_400,rest_bids_500,rest_bids_600,rest_bids_700]\n",
    "bids_dirs_info = [task_bids_info,rest_bids_info_100,rest_bids_info_200,\n",
    "                  rest_bids_info_300,rest_bids_info_400,rest_bids_info_500,\n",
    "                  rest_bids_info_600,rest_bids_info_700]\n",
    "\n",
    "for bids, info in zip(bids_dirs, bids_dirs_info):\n",
    "    dataset = cinnqc.base.bids(bids, info)\n",
    "    #dataset.check_dims()\n",
    "    cinnqc.func.pyfmriqc('./examples/pyfMRIqc.py', dataset, 1)"
   ]
  },
  {
   "cell_type": "code",
   "execution_count": null,
   "metadata": {},
   "outputs": [],
   "source": []
  }
 ],
 "metadata": {
  "kernelspec": {
   "display_name": "Python 3",
   "language": "python",
   "name": "python3"
  },
  "language_info": {
   "codemirror_mode": {
    "name": "ipython",
    "version": 3
   },
   "file_extension": ".py",
   "mimetype": "text/x-python",
   "name": "python",
   "nbconvert_exporter": "python",
   "pygments_lexer": "ipython3",
   "version": "3.8.8"
  }
 },
 "nbformat": 4,
 "nbformat_minor": 4
}
