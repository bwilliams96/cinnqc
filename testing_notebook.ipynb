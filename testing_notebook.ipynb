{
 "cells": [
  {
   "cell_type": "code",
   "execution_count": null,
   "metadata": {},
   "outputs": [],
   "source": [
    "%load_ext autoreload"
   ]
  },
  {
   "cell_type": "code",
   "execution_count": null,
   "metadata": {},
   "outputs": [],
   "source": [
    "%autoreload 2\n",
    "\n",
    "import os\n",
    "os.chdir('/storage/research/cinn-workspace/cinnqc/cinnqc/')\n",
    "import cinnqc\n",
    "test = cinnqc.base.bids('/storage/research/cinn-workspace/cinnqc/fmri-open-qc-task','/storage/research/cinn-workspace/cinnqc/cinnqc/examples/bidsinfo_task.csv')\n",
    "cinnqc.func.pyfmriqc('/usr/share/pyfMRIqcc/pyfMRIqc.py', test, 1, epi_scan_number = [2], subjects = ['sub-001'])"
   ]
  },
  {
   "cell_type": "code",
   "execution_count": 2,
   "metadata": {},
   "outputs": [
    {
     "name": "stdout",
     "output_type": "stream",
     "text": [
      "/storage/research/cinn-workspace/cinnqc/fmri-open-qc-rest/sub-104/ses-01/func/sub-104_ses-01_task-rest_run-01_bold.nii.gz\n"
     ]
    }
   ],
   "source": [
    "import cinnqc\n",
    "test2 = cinnqc.base.bids('/storage/research/cinn-workspace/cinnqc/fmri-open-qc-rest','/storage/research/cinn-workspace/cinnqc/cinnqc/examples/bidsinfo_rest_100.csv')\n",
    "test2.output\n",
    "test2.check_dims(subjects = ['sub-104'])\n",
    "#test2._get_filepath('sub-104',2)\n",
    "cinnqc.func.pyfmriqc('/usr/share/pyfMRIqcc/pyfMRIqc.py', test2, 1, epi_scan_number = [2], subjects = ['sub-104'])\n",
    "#cinnqc.func.motion_correct(test2, subjects = ['sub-104'])\n",
    "#test2._get_filepath('sub-101',1)\n",
    "#test2.output.at[1, 'session']\n",
    "\n"
   ]
  },
  {
   "cell_type": "code",
   "execution_count": null,
   "metadata": {},
   "outputs": [],
   "source": [
    "sess = pd.read_csv('/storage/research/cinn-workspace/cinnqc/cinnqc/examples/bidsinfo_rest_100.csv', converters = {'session': lambda x: str(x)})\n",
    "import numpy as np\n",
    "np.unique(sess['session'])\n",
    "sess = sess['session'].fillna(np.nan).unique()\n",
    "#if np.all(np.isnan(sess)):\n",
    "#    print('okauuu')\n",
    "#sess = pd.read_csv('/storage/research/cinn-workspace/cinnqc/cinnqc/examples/bidsinfo_task.csv', converters = {'session': lambda x: str(x)})\n",
    "#sess = sess['session'].fillna(np.nan).unique()\n",
    "#np.unique(sess['session'])\n",
    "sess = ['01','02','']\n",
    "sess.remove('')\n",
    "sess"
   ]
  },
  {
   "cell_type": "code",
   "execution_count": 4,
   "metadata": {},
   "outputs": [
    {
     "data": {
      "text/plain": [
       "2"
      ]
     },
     "execution_count": 4,
     "metadata": {},
     "output_type": "execute_result"
    }
   ],
   "source": [
    "tmp = (1,2,3)\n",
    "tmp[1]"
   ]
  }
 ],
 "metadata": {
  "kernelspec": {
   "display_name": "Python 3",
   "language": "python",
   "name": "python3"
  },
  "language_info": {
   "codemirror_mode": {
    "name": "ipython",
    "version": 3
   },
   "file_extension": ".py",
   "mimetype": "text/x-python",
   "name": "python",
   "nbconvert_exporter": "python",
   "pygments_lexer": "ipython3",
   "version": "3.8.8"
  }
 },
 "nbformat": 4,
 "nbformat_minor": 4
}
